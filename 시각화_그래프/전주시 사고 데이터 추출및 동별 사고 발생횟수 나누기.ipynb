{
 "cells": [
  {
   "cell_type": "code",
   "execution_count": 1,
   "metadata": {
    "id": "kerkSdgrm0s_",
    "outputId": "895c306e-fcb1-42f9-da08-e3bc7b47bd5d"
   },
   "outputs": [
    {
     "data": {
      "text/plain": [
       "'C:\\\\Users\\\\wowog\\\\Desktop\\\\그래프'"
      ]
     },
     "execution_count": 1,
     "metadata": {},
     "output_type": "execute_result"
    }
   ],
   "source": [
    "import csv\n",
    "import os\n",
    "import pandas as pd\n",
    "os.getcwd()"
   ]
  },
  {
   "cell_type": "code",
   "execution_count": 2,
   "metadata": {
    "id": "9OtKzXqNm0tK"
   },
   "outputs": [],
   "source": [
    "data = pd.read_csv(\"전주시 자전거.csv\", encoding='ANSI')"
   ]
  },
  {
   "cell_type": "code",
   "execution_count": 3,
   "metadata": {
    "id": "WCEF7qPbm0tM"
   },
   "outputs": [],
   "source": [
    "import qgrid"
   ]
  },
  {
   "cell_type": "code",
   "execution_count": 4,
   "metadata": {
    "colab": {
     "base_uri": "https://localhost:8080/",
     "height": 188
    },
    "executionInfo": {
     "elapsed": 2809,
     "status": "error",
     "timestamp": 1620538287219,
     "user": {
      "displayName": "최재혁",
      "photoUrl": "",
      "userId": "17017420319581693931"
     },
     "user_tz": -540
    },
    "id": "70SSvVv-m0tN",
    "outputId": "fb5712b5-3206-446f-c27d-f56b14c40a20"
   },
   "outputs": [
    {
     "data": {
      "application/vnd.jupyter.widget-view+json": {
       "model_id": "3f16507f26ad46b2b158a8e61b58c13c",
       "version_major": 2,
       "version_minor": 0
      },
      "text/plain": [
       "QgridWidget(grid_options={'fullWidthRows': True, 'syncColumnCellResize': True, 'forceFitColumns': True, 'defau…"
      ]
     },
     "metadata": {},
     "output_type": "display_data"
    }
   ],
   "source": [
    "data2 = qgrid.show_grid(data,show_toolbar=True)\n",
    "data2"
   ]
  },
  {
   "cell_type": "code",
   "execution_count": 7,
   "metadata": {
    "executionInfo": {
     "elapsed": 2734,
     "status": "aborted",
     "timestamp": 1620538287151,
     "user": {
      "displayName": "최재혁",
      "photoUrl": "",
      "userId": "17017420319581693931"
     },
     "user_tz": -540
    },
    "id": "VQqO_Sfxm0tO"
   },
   "outputs": [],
   "source": [
    "new_data = data2.get_changed_df()"
   ]
  },
  {
   "cell_type": "code",
   "execution_count": 8,
   "metadata": {},
   "outputs": [
    {
     "data": {
      "text/html": [
       "<div>\n",
       "<style scoped>\n",
       "    .dataframe tbody tr th:only-of-type {\n",
       "        vertical-align: middle;\n",
       "    }\n",
       "\n",
       "    .dataframe tbody tr th {\n",
       "        vertical-align: top;\n",
       "    }\n",
       "\n",
       "    .dataframe thead th {\n",
       "        text-align: right;\n",
       "    }\n",
       "</style>\n",
       "<table border=\"1\" class=\"dataframe\">\n",
       "  <thead>\n",
       "    <tr style=\"text-align: right;\">\n",
       "      <th></th>\n",
       "      <th>사고다발지FID</th>\n",
       "      <th>사고다발지ID</th>\n",
       "      <th>법정동코드</th>\n",
       "      <th>지점코드</th>\n",
       "      <th>시도시군구명</th>\n",
       "      <th>지점명</th>\n",
       "      <th>발생건수</th>\n",
       "      <th>사상자수</th>\n",
       "      <th>사망자수</th>\n",
       "      <th>중상자수</th>\n",
       "      <th>경상자수</th>\n",
       "      <th>부상신고자수</th>\n",
       "      <th>경도</th>\n",
       "      <th>위도</th>\n",
       "      <th>다발지역폴리곤</th>\n",
       "    </tr>\n",
       "  </thead>\n",
       "  <tbody>\n",
       "    <tr>\n",
       "      <th>388</th>\n",
       "      <td>160993</td>\n",
       "      <td>2013099</td>\n",
       "      <td>4511112000</td>\n",
       "      <td>45111001</td>\n",
       "      <td>전라북도 전주시 완산구1</td>\n",
       "      <td>전라북도 전주시 완산구 중노송동(이종철치과의원 부근)</td>\n",
       "      <td>4</td>\n",
       "      <td>4</td>\n",
       "      <td>0</td>\n",
       "      <td>2</td>\n",
       "      <td>2</td>\n",
       "      <td>0</td>\n",
       "      <td>127.151062</td>\n",
       "      <td>35.823407</td>\n",
       "      <td>{\"type\":\"Polygon\",\"coordinates\":[[[127.1526273...</td>\n",
       "    </tr>\n",
       "    <tr>\n",
       "      <th>389</th>\n",
       "      <td>160992</td>\n",
       "      <td>2013099</td>\n",
       "      <td>4511110700</td>\n",
       "      <td>45111002</td>\n",
       "      <td>전라북도 전주시 완산구2</td>\n",
       "      <td>전라북도 전주시 완산구 경원동3가(뉴대한관광여행사 부근)</td>\n",
       "      <td>5</td>\n",
       "      <td>5</td>\n",
       "      <td>0</td>\n",
       "      <td>3</td>\n",
       "      <td>2</td>\n",
       "      <td>0</td>\n",
       "      <td>127.149732</td>\n",
       "      <td>35.819759</td>\n",
       "      <td>{\"type\":\"Polygon\",\"coordinates\":[[[127.1512967...</td>\n",
       "    </tr>\n",
       "    <tr>\n",
       "      <th>390</th>\n",
       "      <td>160994</td>\n",
       "      <td>2013099</td>\n",
       "      <td>4511114000</td>\n",
       "      <td>45111003</td>\n",
       "      <td>전라북도 전주시 완산구3</td>\n",
       "      <td>전라북도 전주시 완산구 효자동1가(효자광장 부근)</td>\n",
       "      <td>5</td>\n",
       "      <td>5</td>\n",
       "      <td>1</td>\n",
       "      <td>1</td>\n",
       "      <td>3</td>\n",
       "      <td>0</td>\n",
       "      <td>127.123478</td>\n",
       "      <td>35.807000</td>\n",
       "      <td>{\"type\":\"Polygon\",\"coordinates\":[[[127.1250423...</td>\n",
       "    </tr>\n",
       "    <tr>\n",
       "      <th>391</th>\n",
       "      <td>139529</td>\n",
       "      <td>2013099</td>\n",
       "      <td>4511112900</td>\n",
       "      <td>45111004</td>\n",
       "      <td>전라북도 전주시 완산구4</td>\n",
       "      <td>전라북도 전주시 완산구 서신동(엘지마트 부근)</td>\n",
       "      <td>5</td>\n",
       "      <td>5</td>\n",
       "      <td>1</td>\n",
       "      <td>1</td>\n",
       "      <td>3</td>\n",
       "      <td>0</td>\n",
       "      <td>127.112215</td>\n",
       "      <td>35.836928</td>\n",
       "      <td>{\"type\":\"Polygon\",\"coordinates\":[[[127.1137807...</td>\n",
       "    </tr>\n",
       "    <tr>\n",
       "      <th>392</th>\n",
       "      <td>139628</td>\n",
       "      <td>2013099</td>\n",
       "      <td>4511311000</td>\n",
       "      <td>45113001</td>\n",
       "      <td>전라북도 전주시 덕진구1</td>\n",
       "      <td>전라북도 전주시 덕진구 팔복동3가(신호종합개발㈜ 부근)</td>\n",
       "      <td>4</td>\n",
       "      <td>4</td>\n",
       "      <td>0</td>\n",
       "      <td>2</td>\n",
       "      <td>2</td>\n",
       "      <td>0</td>\n",
       "      <td>127.084904</td>\n",
       "      <td>35.848891</td>\n",
       "      <td>{\"type\":\"Polygon\",\"coordinates\":[[[127.0864691...</td>\n",
       "    </tr>\n",
       "    <tr>\n",
       "      <th>...</th>\n",
       "      <td>...</td>\n",
       "      <td>...</td>\n",
       "      <td>...</td>\n",
       "      <td>...</td>\n",
       "      <td>...</td>\n",
       "      <td>...</td>\n",
       "      <td>...</td>\n",
       "      <td>...</td>\n",
       "      <td>...</td>\n",
       "      <td>...</td>\n",
       "      <td>...</td>\n",
       "      <td>...</td>\n",
       "      <td>...</td>\n",
       "      <td>...</td>\n",
       "      <td>...</td>\n",
       "    </tr>\n",
       "    <tr>\n",
       "      <th>3607</th>\n",
       "      <td>6617580</td>\n",
       "      <td>2020037</td>\n",
       "      <td>4514011300</td>\n",
       "      <td>45140001</td>\n",
       "      <td>전라북도 익산시1</td>\n",
       "      <td>전라북도 익산시 남중동(송리요가학원 부근)</td>\n",
       "      <td>5</td>\n",
       "      <td>5</td>\n",
       "      <td>0</td>\n",
       "      <td>3</td>\n",
       "      <td>1</td>\n",
       "      <td>1</td>\n",
       "      <td>126.958620</td>\n",
       "      <td>35.952081</td>\n",
       "      <td>{\"type\":\"Polygon\",\"coordinates\":[[[126.9604168...</td>\n",
       "    </tr>\n",
       "    <tr>\n",
       "      <th>3608</th>\n",
       "      <td>6619248</td>\n",
       "      <td>2020037</td>\n",
       "      <td>4514010300</td>\n",
       "      <td>45140002</td>\n",
       "      <td>전라북도 익산시2</td>\n",
       "      <td>전라북도 익산시 중앙동1가(익산지하차도 부근)</td>\n",
       "      <td>4</td>\n",
       "      <td>4</td>\n",
       "      <td>0</td>\n",
       "      <td>2</td>\n",
       "      <td>2</td>\n",
       "      <td>0</td>\n",
       "      <td>126.947156</td>\n",
       "      <td>35.939862</td>\n",
       "      <td>{\"type\":\"Polygon\",\"coordinates\":[[[126.9489526...</td>\n",
       "    </tr>\n",
       "    <tr>\n",
       "      <th>3609</th>\n",
       "      <td>6619249</td>\n",
       "      <td>2020037</td>\n",
       "      <td>4514012100</td>\n",
       "      <td>45140003</td>\n",
       "      <td>전라북도 익산시3</td>\n",
       "      <td>전라북도 익산시 신동(월드카센타 부근)</td>\n",
       "      <td>4</td>\n",
       "      <td>4</td>\n",
       "      <td>0</td>\n",
       "      <td>1</td>\n",
       "      <td>3</td>\n",
       "      <td>0</td>\n",
       "      <td>126.963270</td>\n",
       "      <td>35.962116</td>\n",
       "      <td>{\"type\":\"Polygon\",\"coordinates\":[[[126.9650666...</td>\n",
       "    </tr>\n",
       "    <tr>\n",
       "      <th>3610</th>\n",
       "      <td>6617735</td>\n",
       "      <td>2020037</td>\n",
       "      <td>4518010400</td>\n",
       "      <td>45180001</td>\n",
       "      <td>전라북도 정읍시1</td>\n",
       "      <td>전라북도 정읍시 시기동(대한꽃시장입구 부근)</td>\n",
       "      <td>6</td>\n",
       "      <td>6</td>\n",
       "      <td>0</td>\n",
       "      <td>2</td>\n",
       "      <td>4</td>\n",
       "      <td>0</td>\n",
       "      <td>126.856139</td>\n",
       "      <td>35.565036</td>\n",
       "      <td>{\"type\":\"Polygon\",\"coordinates\":[[[126.8579361...</td>\n",
       "    </tr>\n",
       "    <tr>\n",
       "      <th>3611</th>\n",
       "      <td>6619250</td>\n",
       "      <td>2020037</td>\n",
       "      <td>4519010100</td>\n",
       "      <td>45190001</td>\n",
       "      <td>전라북도 남원시1</td>\n",
       "      <td>전라북도 남원시 동충동(중앙지구대입구 부근)</td>\n",
       "      <td>5</td>\n",
       "      <td>5</td>\n",
       "      <td>0</td>\n",
       "      <td>1</td>\n",
       "      <td>4</td>\n",
       "      <td>0</td>\n",
       "      <td>127.380306</td>\n",
       "      <td>35.411705</td>\n",
       "      <td>{\"type\":\"Polygon\",\"coordinates\":[[[127.3821030...</td>\n",
       "    </tr>\n",
       "  </tbody>\n",
       "</table>\n",
       "<p>99 rows × 15 columns</p>\n",
       "</div>"
      ],
      "text/plain": [
       "      사고다발지FID  사고다발지ID       법정동코드      지점코드         시도시군구명  \\\n",
       "388     160993  2013099  4511112000  45111001  전라북도 전주시 완산구1   \n",
       "389     160992  2013099  4511110700  45111002  전라북도 전주시 완산구2   \n",
       "390     160994  2013099  4511114000  45111003  전라북도 전주시 완산구3   \n",
       "391     139529  2013099  4511112900  45111004  전라북도 전주시 완산구4   \n",
       "392     139628  2013099  4511311000  45113001  전라북도 전주시 덕진구1   \n",
       "...        ...      ...         ...       ...            ...   \n",
       "3607   6617580  2020037  4514011300  45140001      전라북도 익산시1   \n",
       "3608   6619248  2020037  4514010300  45140002      전라북도 익산시2   \n",
       "3609   6619249  2020037  4514012100  45140003      전라북도 익산시3   \n",
       "3610   6617735  2020037  4518010400  45180001      전라북도 정읍시1   \n",
       "3611   6619250  2020037  4519010100  45190001      전라북도 남원시1   \n",
       "\n",
       "                                  지점명  발생건수  사상자수  사망자수  중상자수  경상자수  부상신고자수  \\\n",
       "388     전라북도 전주시 완산구 중노송동(이종철치과의원 부근)     4     4     0     2     2       0   \n",
       "389   전라북도 전주시 완산구 경원동3가(뉴대한관광여행사 부근)     5     5     0     3     2       0   \n",
       "390       전라북도 전주시 완산구 효자동1가(효자광장 부근)     5     5     1     1     3       0   \n",
       "391         전라북도 전주시 완산구 서신동(엘지마트 부근)     5     5     1     1     3       0   \n",
       "392    전라북도 전주시 덕진구 팔복동3가(신호종합개발㈜ 부근)     4     4     0     2     2       0   \n",
       "...                               ...   ...   ...   ...   ...   ...     ...   \n",
       "3607          전라북도 익산시 남중동(송리요가학원 부근)     5     5     0     3     1       1   \n",
       "3608        전라북도 익산시 중앙동1가(익산지하차도 부근)     4     4     0     2     2       0   \n",
       "3609            전라북도 익산시 신동(월드카센타 부근)     4     4     0     1     3       0   \n",
       "3610         전라북도 정읍시 시기동(대한꽃시장입구 부근)     6     6     0     2     4       0   \n",
       "3611         전라북도 남원시 동충동(중앙지구대입구 부근)     5     5     0     1     4       0   \n",
       "\n",
       "              경도         위도                                            다발지역폴리곤  \n",
       "388   127.151062  35.823407  {\"type\":\"Polygon\",\"coordinates\":[[[127.1526273...  \n",
       "389   127.149732  35.819759  {\"type\":\"Polygon\",\"coordinates\":[[[127.1512967...  \n",
       "390   127.123478  35.807000  {\"type\":\"Polygon\",\"coordinates\":[[[127.1250423...  \n",
       "391   127.112215  35.836928  {\"type\":\"Polygon\",\"coordinates\":[[[127.1137807...  \n",
       "392   127.084904  35.848891  {\"type\":\"Polygon\",\"coordinates\":[[[127.0864691...  \n",
       "...          ...        ...                                                ...  \n",
       "3607  126.958620  35.952081  {\"type\":\"Polygon\",\"coordinates\":[[[126.9604168...  \n",
       "3608  126.947156  35.939862  {\"type\":\"Polygon\",\"coordinates\":[[[126.9489526...  \n",
       "3609  126.963270  35.962116  {\"type\":\"Polygon\",\"coordinates\":[[[126.9650666...  \n",
       "3610  126.856139  35.565036  {\"type\":\"Polygon\",\"coordinates\":[[[126.8579361...  \n",
       "3611  127.380306  35.411705  {\"type\":\"Polygon\",\"coordinates\":[[[127.3821030...  \n",
       "\n",
       "[99 rows x 15 columns]"
      ]
     },
     "execution_count": 8,
     "metadata": {},
     "output_type": "execute_result"
    }
   ],
   "source": [
    "new_data"
   ]
  },
  {
   "cell_type": "code",
   "execution_count": 9,
   "metadata": {
    "executionInfo": {
     "elapsed": 2740,
     "status": "aborted",
     "timestamp": 1620538287161,
     "user": {
      "displayName": "최재혁",
      "photoUrl": "",
      "userId": "17017420319581693931"
     },
     "user_tz": -540
    },
    "id": "xwFd3Js6m0tO"
   },
   "outputs": [],
   "source": [
    "new_data.to_csv('전주시_자전거사고_추출데이터.csv', encoding='ANSI')"
   ]
  },
  {
   "cell_type": "code",
   "execution_count": 10,
   "metadata": {},
   "outputs": [],
   "source": [
    "new_data = pd.read_csv(\"전주시_자전거사고_추출데이터.csv\", encoding='ANSI')"
   ]
  },
  {
   "cell_type": "code",
   "execution_count": 11,
   "metadata": {
    "executionInfo": {
     "elapsed": 2736,
     "status": "aborted",
     "timestamp": 1620538287166,
     "user": {
      "displayName": "최재혁",
      "photoUrl": "",
      "userId": "17017420319581693931"
     },
     "user_tz": -540
    },
    "id": "f5xYLtCgm0tP"
   },
   "outputs": [],
   "source": [
    "a_data = new_data[['지점명','발생건수']]"
   ]
  },
  {
   "cell_type": "code",
   "execution_count": 12,
   "metadata": {
    "executionInfo": {
     "elapsed": 2733,
     "status": "aborted",
     "timestamp": 1620538287169,
     "user": {
      "displayName": "최재혁",
      "photoUrl": "",
      "userId": "17017420319581693931"
     },
     "user_tz": -540
    },
    "id": "hp2tXT0Zm0tQ"
   },
   "outputs": [],
   "source": [
    "# 시도시군구명 , 발생건수"
   ]
  },
  {
   "cell_type": "code",
   "execution_count": 14,
   "metadata": {
    "executionInfo": {
     "elapsed": 2743,
     "status": "aborted",
     "timestamp": 1620538287193,
     "user": {
      "displayName": "최재혁",
      "photoUrl": "",
      "userId": "17017420319581693931"
     },
     "user_tz": -540
    },
    "id": "A-XfjQ2Dm0tR",
    "scrolled": true
   },
   "outputs": [
    {
     "data": {
      "text/html": [
       "<div>\n",
       "<style scoped>\n",
       "    .dataframe tbody tr th:only-of-type {\n",
       "        vertical-align: middle;\n",
       "    }\n",
       "\n",
       "    .dataframe tbody tr th {\n",
       "        vertical-align: top;\n",
       "    }\n",
       "\n",
       "    .dataframe thead th {\n",
       "        text-align: right;\n",
       "    }\n",
       "</style>\n",
       "<table border=\"1\" class=\"dataframe\">\n",
       "  <thead>\n",
       "    <tr style=\"text-align: right;\">\n",
       "      <th></th>\n",
       "      <th>지점명</th>\n",
       "      <th>발생건수</th>\n",
       "    </tr>\n",
       "  </thead>\n",
       "  <tbody>\n",
       "    <tr>\n",
       "      <th>0</th>\n",
       "      <td>전라북도 전주시 완산구 중노송동(이종철치과의원 부근)</td>\n",
       "      <td>4</td>\n",
       "    </tr>\n",
       "    <tr>\n",
       "      <th>1</th>\n",
       "      <td>전라북도 전주시 완산구 경원동3가(뉴대한관광여행사 부근)</td>\n",
       "      <td>5</td>\n",
       "    </tr>\n",
       "    <tr>\n",
       "      <th>2</th>\n",
       "      <td>전라북도 전주시 완산구 효자동1가(효자광장 부근)</td>\n",
       "      <td>5</td>\n",
       "    </tr>\n",
       "    <tr>\n",
       "      <th>3</th>\n",
       "      <td>전라북도 전주시 완산구 서신동(엘지마트 부근)</td>\n",
       "      <td>5</td>\n",
       "    </tr>\n",
       "    <tr>\n",
       "      <th>4</th>\n",
       "      <td>전라북도 전주시 덕진구 팔복동3가(신호종합개발㈜ 부근)</td>\n",
       "      <td>4</td>\n",
       "    </tr>\n",
       "  </tbody>\n",
       "</table>\n",
       "</div>"
      ],
      "text/plain": [
       "                               지점명  발생건수\n",
       "0    전라북도 전주시 완산구 중노송동(이종철치과의원 부근)     4\n",
       "1  전라북도 전주시 완산구 경원동3가(뉴대한관광여행사 부근)     5\n",
       "2      전라북도 전주시 완산구 효자동1가(효자광장 부근)     5\n",
       "3        전라북도 전주시 완산구 서신동(엘지마트 부근)     5\n",
       "4   전라북도 전주시 덕진구 팔복동3가(신호종합개발㈜ 부근)     4"
      ]
     },
     "execution_count": 14,
     "metadata": {},
     "output_type": "execute_result"
    }
   ],
   "source": [
    "a_data.head()"
   ]
  },
  {
   "cell_type": "code",
   "execution_count": 17,
   "metadata": {
    "executionInfo": {
     "elapsed": 2740,
     "status": "aborted",
     "timestamp": 1620538287195,
     "user": {
      "displayName": "최재혁",
      "photoUrl": "",
      "userId": "17017420319581693931"
     },
     "user_tz": -540
    },
    "id": "m2UCC9gKm0tR"
   },
   "outputs": [],
   "source": [
    "dong =[]\n",
    "\n",
    "for i in a_data['지점명']:\n",
    "    try:\n",
    "        a = i.split('완산구')[1]\n",
    "        a = a.split('(')[0]\n",
    "        dong.append(a)\n",
    "    except:\n",
    "        a = i.split('덕진구')[1]\n",
    "        a = a.split('(')[0]\n",
    "        dong.append(a)\n",
    "        "
   ]
  },
  {
   "cell_type": "code",
   "execution_count": 18,
   "metadata": {
    "executionInfo": {
     "elapsed": 2739,
     "status": "aborted",
     "timestamp": 1620538287197,
     "user": {
      "displayName": "최재혁",
      "photoUrl": "",
      "userId": "17017420319581693931"
     },
     "user_tz": -540
    },
    "id": "4R3D1Jilm0tS"
   },
   "outputs": [],
   "source": [
    "new_dong = set(dong)"
   ]
  },
  {
   "cell_type": "code",
   "execution_count": 19,
   "metadata": {
    "executionInfo": {
     "elapsed": 2732,
     "status": "aborted",
     "timestamp": 1620538287200,
     "user": {
      "displayName": "최재혁",
      "photoUrl": "",
      "userId": "17017420319581693931"
     },
     "user_tz": -540
    },
    "id": "KX3DFq7_m0tS"
   },
   "outputs": [
    {
     "data": {
      "text/plain": [
       "{' 경원동3가',\n",
       " ' 고사동',\n",
       " ' 금암동',\n",
       " ' 덕진동1가',\n",
       " ' 덕진동2가',\n",
       " ' 서서학동',\n",
       " ' 서신동',\n",
       " ' 인후동1가',\n",
       " ' 중노송동',\n",
       " ' 중화산동2가',\n",
       " ' 진북동',\n",
       " ' 팔복동1가',\n",
       " ' 팔복동3가',\n",
       " ' 효자동1가'}"
      ]
     },
     "execution_count": 19,
     "metadata": {},
     "output_type": "execute_result"
    }
   ],
   "source": [
    "new_dong"
   ]
  },
  {
   "cell_type": "code",
   "execution_count": 20,
   "metadata": {
    "executionInfo": {
     "elapsed": 2732,
     "status": "aborted",
     "timestamp": 1620538287203,
     "user": {
      "displayName": "최재혁",
      "photoUrl": "",
      "userId": "17017420319581693931"
     },
     "user_tz": -540
    },
    "id": "hdo9Ly7Um0tT"
   },
   "outputs": [],
   "source": [
    "name = []\n",
    "for i in new_dong:\n",
    "    a=i.replace(\" \",\"\")\n",
    "    name.append(a)"
   ]
  },
  {
   "cell_type": "code",
   "execution_count": 21,
   "metadata": {
    "executionInfo": {
     "elapsed": 2726,
     "status": "aborted",
     "timestamp": 1620538287205,
     "user": {
      "displayName": "최재혁",
      "photoUrl": "",
      "userId": "17017420319581693931"
     },
     "user_tz": -540
    },
    "id": "2wIy-hDYm0tT"
   },
   "outputs": [
    {
     "data": {
      "text/plain": [
       "['효자동1가',\n",
       " '중노송동',\n",
       " '진북동',\n",
       " '금암동',\n",
       " '덕진동1가',\n",
       " '팔복동1가',\n",
       " '중화산동2가',\n",
       " '경원동3가',\n",
       " '덕진동2가',\n",
       " '팔복동3가',\n",
       " '인후동1가',\n",
       " '서신동',\n",
       " '고사동',\n",
       " '서서학동']"
      ]
     },
     "execution_count": 21,
     "metadata": {},
     "output_type": "execute_result"
    }
   ],
   "source": [
    "name"
   ]
  },
  {
   "cell_type": "code",
   "execution_count": 22,
   "metadata": {
    "executionInfo": {
     "elapsed": 2722,
     "status": "aborted",
     "timestamp": 1620538287207,
     "user": {
      "displayName": "최재혁",
      "photoUrl": "",
      "userId": "17017420319581693931"
     },
     "user_tz": -540
    },
    "id": "bqEIdhA5m0tU"
   },
   "outputs": [],
   "source": [
    "count = 0\n",
    "for i in name:\n",
    "    globals()['name_{}'.format(count)] = 0\n",
    "    count+=1"
   ]
  },
  {
   "cell_type": "code",
   "execution_count": 25,
   "metadata": {
    "executionInfo": {
     "elapsed": 2722,
     "status": "aborted",
     "timestamp": 1620538287209,
     "user": {
      "displayName": "최재혁",
      "photoUrl": "",
      "userId": "17017420319581693931"
     },
     "user_tz": -540
    },
    "id": "nSwO8vpmm0tU"
   },
   "outputs": [],
   "source": [
    "x = 0\n",
    "for i in data_2[data_2['지점명'].str.contains('덕진동1가')]['발생건수']:\n",
    "    x+=i"
   ]
  },
  {
   "cell_type": "code",
   "execution_count": 26,
   "metadata": {
    "executionInfo": {
     "elapsed": 2715,
     "status": "aborted",
     "timestamp": 1620538287210,
     "user": {
      "displayName": "최재혁",
      "photoUrl": "",
      "userId": "17017420319581693931"
     },
     "user_tz": -540
    },
    "id": "qjxYw0Rnm0tV"
   },
   "outputs": [
    {
     "data": {
      "text/plain": [
       "10"
      ]
     },
     "execution_count": 26,
     "metadata": {},
     "output_type": "execute_result"
    }
   ],
   "source": [
    "x"
   ]
  },
  {
   "cell_type": "code",
   "execution_count": 24,
   "metadata": {
    "executionInfo": {
     "elapsed": 2713,
     "status": "aborted",
     "timestamp": 1620538287212,
     "user": {
      "displayName": "최재혁",
      "photoUrl": "",
      "userId": "17017420319581693931"
     },
     "user_tz": -540
    },
    "id": "Mt1GjqFtm0tW"
   },
   "outputs": [],
   "source": [
    "for i in name:\n",
    "    if(i == '진북동'):\n",
    "        for j in a_data[a_data['지점명'].str.contains(i)]['발생건수']:\n",
    "            name_0 += j\n",
    "    elif(i == '덕진동1가'):\n",
    "        for j in a_data[a_data['지점명'].str.contains(i)]['발생건수']:\n",
    "            name_1 += j\n",
    "    elif(i == '금암동'):\n",
    "        for j in a_data[a_data['지점명'].str.contains(i)]['발생건수']:\n",
    "            name_2 += j\n",
    "    elif(i == '팔복동3가'):\n",
    "        for j in a_data[a_data['지점명'].str.contains(i)]['발생건수']:\n",
    "            name_3 += j\n",
    "    elif(i == '중화산동2가'):\n",
    "        for j in a_data[a_data['지점명'].str.contains(i)]['발생건수']:\n",
    "            name_4 += j\n",
    "    elif(i == '서신동'):\n",
    "        for j in a_data[a_data['지점명'].str.contains(i)]['발생건수']:\n",
    "            name_5 += j\n",
    "    elif(i == '고사동'):\n",
    "        for j in a_data[a_data['지점명'].str.contains(i)]['발생건수']:\n",
    "            name_6 += j\n",
    "    elif(i == '효자동1가'):\n",
    "        for j in a_data[a_data['지점명'].str.contains(i)]['발생건수']:\n",
    "            name_7 += j\n",
    "    elif(i == '경원동3가'):\n",
    "        for j in a_data[a_data['지점명'].str.contains(i)]['발생건수']:\n",
    "            name_8 += j\n",
    "    elif(i == '덕진동2가'):\n",
    "        for j in a_data[a_data['지점명'].str.contains(i)]['발생건수']:\n",
    "            name_9 += j\n",
    "    elif(i == '서서학동'):\n",
    "        for j in a_data[a_data['지점명'].str.contains(i)]['발생건수']:\n",
    "            name_10 += j\n",
    "    elif(i == '중노송동'):\n",
    "        for j in a_data[a_data['지점명'].str.contains(i)]['발생건수']:\n",
    "            name_11 += j\n",
    "    elif(i == '인후동1가'):\n",
    "        for j in a_data[a_data['지점명'].str.contains(i)]['발생건수']:\n",
    "            name_12 += j\n",
    "    elif(i == '팔복동1가'):\n",
    "        for j in a_data[a_data['지점명'].str.contains(i)]['발생건수']:\n",
    "            name_13 += j"
   ]
  },
  {
   "cell_type": "code",
   "execution_count": 28,
   "metadata": {
    "executionInfo": {
     "elapsed": 2707,
     "status": "aborted",
     "timestamp": 1620538287213,
     "user": {
      "displayName": "최재혁",
      "photoUrl": "",
      "userId": "17017420319581693931"
     },
     "user_tz": -540
    },
    "id": "OFoHdh28m0tX"
   },
   "outputs": [
    {
     "name": "stdout",
     "output_type": "stream",
     "text": [
      "5\n",
      "10\n",
      "37\n",
      "4\n",
      "4\n",
      "10\n",
      "4\n",
      "5\n",
      "5\n",
      "10\n",
      "4\n",
      "4\n",
      "12\n",
      "4\n"
     ]
    }
   ],
   "source": [
    "for i in range(14):\n",
    "    print(globals()['name_{}'.format(i)])"
   ]
  },
  {
   "cell_type": "code",
   "execution_count": 22,
   "metadata": {
    "executionInfo": {
     "elapsed": 2697,
     "status": "aborted",
     "timestamp": 1620538287217,
     "user": {
      "displayName": "최재혁",
      "photoUrl": "",
      "userId": "17017420319581693931"
     },
     "user_tz": -540
    },
    "id": "4qaVDM-ym0tX"
   },
   "outputs": [
    {
     "name": "stdout",
     "output_type": "stream",
     "text": [
      "진북동의 사고횟수 :5\n",
      "덕진동2가의 사고횟수 :10\n",
      "팔복동1가의 사고횟수 :37\n",
      "중화산동2가의 사고횟수 :4\n",
      "중노송동의 사고횟수 :4\n",
      "금암동의 사고횟수 :10\n",
      "효자동1가의 사고횟수 :4\n",
      "덕진동1가의 사고횟수 :5\n",
      "서신동의 사고횟수 :5\n",
      "팔복동3가의 사고횟수 :10\n",
      "고사동의 사고횟수 :4\n",
      "서서학동의 사고횟수 :4\n",
      "경원동3가의 사고횟수 :12\n",
      "인후동1가의 사고횟수 :4\n"
     ]
    }
   ],
   "source": [
    "for i in range(14):\n",
    "    print(name[i] +'의 사고횟수 :' + str(globals()['name_{}'.format(i)]))"
   ]
  },
  {
   "cell_type": "code",
   "execution_count": 29,
   "metadata": {},
   "outputs": [
    {
     "data": {
      "text/plain": [
       "['효자동1가',\n",
       " '중노송동',\n",
       " '진북동',\n",
       " '금암동',\n",
       " '덕진동1가',\n",
       " '팔복동1가',\n",
       " '중화산동2가',\n",
       " '경원동3가',\n",
       " '덕진동2가',\n",
       " '팔복동3가',\n",
       " '인후동1가',\n",
       " '서신동',\n",
       " '고사동',\n",
       " '서서학동']"
      ]
     },
     "execution_count": 29,
     "metadata": {},
     "output_type": "execute_result"
    }
   ],
   "source": [
    "name"
   ]
  },
  {
   "cell_type": "code",
   "execution_count": 35,
   "metadata": {},
   "outputs": [
    {
     "data": {
      "text/plain": [
       "{'구명': ['효자동1가',\n",
       "  '중노송동',\n",
       "  '진북동',\n",
       "  '금암동',\n",
       "  '덕진동1가',\n",
       "  '팔복동1가',\n",
       "  '중화산동2가',\n",
       "  '경원동3가',\n",
       "  '덕진동2가',\n",
       "  '팔복동3가',\n",
       "  '인후동1가',\n",
       "  '서신동',\n",
       "  '고사동',\n",
       "  '서서학동'],\n",
       " '사고횟수': [5, 10, 37, 4, 4, 10, 4, 5, 5, 10, 4, 4, 12, 4]}"
      ]
     },
     "execution_count": 35,
     "metadata": {},
     "output_type": "execute_result"
    }
   ],
   "source": [
    "aa_data = {'구명':name,'사고횟수':[globals()['name_{}'.format(i)] for i in range(14)]}\n",
    "aa_data"
   ]
  },
  {
   "cell_type": "code",
   "execution_count": 47,
   "metadata": {},
   "outputs": [
    {
     "data": {
      "text/plain": [
       "[5, 10, 37, 4, 4, 10, 4, 5, 5, 10, 4, 4, 12, 4]"
      ]
     },
     "execution_count": 47,
     "metadata": {},
     "output_type": "execute_result"
    }
   ],
   "source": [
    "aa_data['사고횟수']"
   ]
  },
  {
   "cell_type": "code",
   "execution_count": 79,
   "metadata": {},
   "outputs": [
    {
     "data": {
      "text/html": [
       "\n",
       "\n",
       "\n",
       "\n",
       "\n",
       "\n",
       "  <div class=\"bk-root\" id=\"a8e218ee-f74d-48c0-99eb-98ea8bfdad73\" data-root-id=\"9708\"></div>\n"
      ]
     },
     "metadata": {},
     "output_type": "display_data"
    },
    {
     "data": {
      "application/javascript": [
       "(function(root) {\n",
       "  function embed_document(root) {\n",
       "    \n",
       "  var docs_json = {\"ce4bc44c-077a-4eb7-8098-e6c1d10d59d8\":{\"defs\":[{\"extends\":null,\"module\":null,\"name\":\"DataModel\",\"overrides\":[],\"properties\":[]}],\"roots\":{\"references\":[{\"attributes\":{\"below\":[{\"id\":\"9717\"}],\"center\":[{\"id\":\"9719\"},{\"id\":\"9723\"}],\"height\":400,\"left\":[{\"id\":\"9720\"}],\"renderers\":[{\"id\":\"9741\"}],\"title\":{\"id\":\"9979\"},\"toolbar\":{\"id\":\"9731\"},\"width\":1000,\"x_range\":{\"id\":\"9709\"},\"x_scale\":{\"id\":\"9713\"},\"y_range\":{\"id\":\"9711\"},\"y_scale\":{\"id\":\"9715\"}},\"id\":\"9708\",\"subtype\":\"Figure\",\"type\":\"Plot\"},{\"attributes\":{\"factors\":[\"\\ud6a8\\uc790\\ub3d91\\uac00\",\"\\uc911\\ub178\\uc1a1\\ub3d9\",\"\\uc9c4\\ubd81\\ub3d9\",\"\\uae08\\uc554\\ub3d9\",\"\\ub355\\uc9c4\\ub3d91\\uac00\",\"\\ud314\\ubcf5\\ub3d91\\uac00\",\"\\uc911\\ud654\\uc0b0\\ub3d92\\uac00\",\"\\uacbd\\uc6d0\\ub3d93\\uac00\",\"\\ub355\\uc9c4\\ub3d92\\uac00\",\"\\ud314\\ubcf5\\ub3d93\\uac00\",\"\\uc778\\ud6c4\\ub3d91\\uac00\",\"\\uc11c\\uc2e0\\ub3d9\",\"\\uace0\\uc0ac\\ub3d9\",\"\\uc11c\\uc11c\\ud559\\ub3d9\"]},\"id\":\"9709\",\"type\":\"FactorRange\"},{\"attributes\":{},\"id\":\"9984\",\"type\":\"AllLabels\"},{\"attributes\":{},\"id\":\"9987\",\"type\":\"Selection\"},{\"attributes\":{},\"id\":\"9729\",\"type\":\"HelpTool\"},{\"attributes\":{},\"id\":\"9985\",\"type\":\"CategoricalTickFormatter\"},{\"attributes\":{\"bottom_units\":\"screen\",\"fill_alpha\":0.5,\"fill_color\":\"lightgrey\",\"left_units\":\"screen\",\"level\":\"overlay\",\"line_alpha\":1.0,\"line_color\":\"black\",\"line_dash\":[4,4],\"line_width\":2,\"right_units\":\"screen\",\"syncable\":false,\"top_units\":\"screen\"},\"id\":\"9730\",\"type\":\"BoxAnnotation\"},{\"attributes\":{},\"id\":\"9713\",\"type\":\"CategoricalScale\"},{\"attributes\":{},\"id\":\"9988\",\"type\":\"UnionRenderers\"},{\"attributes\":{\"fill_color\":{\"field\":\"fill_color\"},\"line_color\":{\"field\":\"line_color\"},\"top\":{\"field\":\"top\"},\"width\":{\"value\":0.5},\"x\":{\"field\":\"x\"}},\"id\":\"9739\",\"type\":\"VBar\"},{\"attributes\":{},\"id\":\"9981\",\"type\":\"AllLabels\"},{\"attributes\":{},\"id\":\"9979\",\"type\":\"Title\"},{\"attributes\":{\"axis_label_text_font_size\":\"12px\",\"axis_label_text_font_style\":\"bold\",\"formatter\":{\"id\":\"9982\"},\"major_label_policy\":{\"id\":\"9981\"},\"ticker\":{\"id\":\"9721\"}},\"id\":\"9720\",\"type\":\"LinearAxis\"},{\"attributes\":{\"callback\":null,\"tooltips\":[[\"\\uc804\\uc8fc\\uc2dc\\uad6c\\uba85\",\"@x\"],[\"\\uc0ac\\uac74\\ubc1c\\uc0dd\\ud69f\\uc218\",\"@top\"]]},\"id\":\"9743\",\"type\":\"HoverTool\"},{\"attributes\":{\"data\":{\"fill_color\":[\"#3182bd\",\"#6baed6\",\"#9ecae1\",\"#c6dbef\",\"#e6550d\",\"#fd8d3c\",\"#fdae6b\",\"#fdd0a2\",\"#31a354\",\"#74c476\",\"#a1d99b\",\"#c7e9c0\",\"#756bb1\",\"#9e9ac8\"],\"line_color\":[\"#3182bd\",\"#6baed6\",\"#9ecae1\",\"#c6dbef\",\"#e6550d\",\"#fd8d3c\",\"#fdae6b\",\"#fdd0a2\",\"#31a354\",\"#74c476\",\"#a1d99b\",\"#c7e9c0\",\"#756bb1\",\"#9e9ac8\"],\"top\":[5,10,37,4,4,10,4,5,5,10,4,4,12,4],\"x\":[\"\\ud6a8\\uc790\\ub3d91\\uac00\",\"\\uc911\\ub178\\uc1a1\\ub3d9\",\"\\uc9c4\\ubd81\\ub3d9\",\"\\uae08\\uc554\\ub3d9\",\"\\ub355\\uc9c4\\ub3d91\\uac00\",\"\\ud314\\ubcf5\\ub3d91\\uac00\",\"\\uc911\\ud654\\uc0b0\\ub3d92\\uac00\",\"\\uacbd\\uc6d0\\ub3d93\\uac00\",\"\\ub355\\uc9c4\\ub3d92\\uac00\",\"\\ud314\\ubcf5\\ub3d93\\uac00\",\"\\uc778\\ud6c4\\ub3d91\\uac00\",\"\\uc11c\\uc2e0\\ub3d9\",\"\\uace0\\uc0ac\\ub3d9\",\"\\uc11c\\uc11c\\ud559\\ub3d9\"]},\"selected\":{\"id\":\"9987\"},\"selection_policy\":{\"id\":\"9988\"}},\"id\":\"9738\",\"type\":\"ColumnDataSource\"},{\"attributes\":{},\"id\":\"9727\",\"type\":\"SaveTool\"},{\"attributes\":{},\"id\":\"9711\",\"type\":\"DataRange1d\"},{\"attributes\":{\"axis_label_text_font_size\":\"12px\",\"axis_label_text_font_style\":\"bold\",\"formatter\":{\"id\":\"9985\"},\"major_label_policy\":{\"id\":\"9984\"},\"ticker\":{\"id\":\"9718\"}},\"id\":\"9717\",\"type\":\"CategoricalAxis\"},{\"attributes\":{},\"id\":\"9715\",\"type\":\"LinearScale\"},{\"attributes\":{},\"id\":\"9718\",\"type\":\"CategoricalTicker\"},{\"attributes\":{\"axis\":{\"id\":\"9717\"},\"ticker\":null,\"visible\":false},\"id\":\"9719\",\"type\":\"Grid\"},{\"attributes\":{\"axis\":{\"id\":\"9720\"},\"dimension\":1,\"ticker\":null,\"visible\":false},\"id\":\"9723\",\"type\":\"Grid\"},{\"attributes\":{},\"id\":\"9721\",\"type\":\"BasicTicker\"},{\"attributes\":{\"active_multi\":null,\"tools\":[{\"id\":\"9724\"},{\"id\":\"9725\"},{\"id\":\"9726\"},{\"id\":\"9727\"},{\"id\":\"9728\"},{\"id\":\"9729\"},{\"id\":\"9743\"}]},\"id\":\"9731\",\"type\":\"Toolbar\"},{\"attributes\":{},\"id\":\"9725\",\"type\":\"WheelZoomTool\"},{\"attributes\":{},\"id\":\"9724\",\"type\":\"PanTool\"},{\"attributes\":{\"overlay\":{\"id\":\"9730\"}},\"id\":\"9726\",\"type\":\"BoxZoomTool\"},{\"attributes\":{\"source\":{\"id\":\"9738\"}},\"id\":\"9742\",\"type\":\"CDSView\"},{\"attributes\":{},\"id\":\"9728\",\"type\":\"ResetTool\"},{\"attributes\":{\"fill_alpha\":{\"value\":0.1},\"fill_color\":{\"field\":\"fill_color\"},\"line_alpha\":{\"value\":0.1},\"line_color\":{\"field\":\"line_color\"},\"top\":{\"field\":\"top\"},\"width\":{\"value\":0.5},\"x\":{\"field\":\"x\"}},\"id\":\"9740\",\"type\":\"VBar\"},{\"attributes\":{\"data_source\":{\"id\":\"9738\"},\"glyph\":{\"id\":\"9739\"},\"hover_glyph\":null,\"muted_glyph\":null,\"nonselection_glyph\":{\"id\":\"9740\"},\"view\":{\"id\":\"9742\"}},\"id\":\"9741\",\"type\":\"GlyphRenderer\"},{\"attributes\":{},\"id\":\"9982\",\"type\":\"BasicTickFormatter\"}],\"root_ids\":[\"9708\"]},\"title\":\"Bokeh Application\",\"version\":\"2.3.0\"}};\n",
       "  var render_items = [{\"docid\":\"ce4bc44c-077a-4eb7-8098-e6c1d10d59d8\",\"root_ids\":[\"9708\"],\"roots\":{\"9708\":\"a8e218ee-f74d-48c0-99eb-98ea8bfdad73\"}}];\n",
       "  root.Bokeh.embed.embed_items_notebook(docs_json, render_items);\n",
       "\n",
       "  }\n",
       "  if (root.Bokeh !== undefined) {\n",
       "    embed_document(root);\n",
       "  } else {\n",
       "    var attempts = 0;\n",
       "    var timer = setInterval(function(root) {\n",
       "      if (root.Bokeh !== undefined) {\n",
       "        clearInterval(timer);\n",
       "        embed_document(root);\n",
       "      } else {\n",
       "        attempts++;\n",
       "        if (attempts > 100) {\n",
       "          clearInterval(timer);\n",
       "          console.log(\"Bokeh: ERROR: Unable to run BokehJS code because BokehJS library is missing\");\n",
       "        }\n",
       "      }\n",
       "    }, 10, root)\n",
       "  }\n",
       "})(window);"
      ],
      "application/vnd.bokehjs_exec.v0+json": ""
     },
     "metadata": {
      "application/vnd.bokehjs_exec.v0+json": {
       "id": "9708"
      }
     },
     "output_type": "display_data"
    }
   ],
   "source": [
    "from bokeh.plotting import figure, output_file, show\n",
    "from bokeh.palettes import Category20c\n",
    "output_file('전라북도사고횟수.html')\n",
    "\n",
    "x1 = aa_data['구명']\n",
    "y1 = aa_data['사고횟수']\n",
    "\n",
    "\n",
    "p = figure(x_range=x1,plot_width=1000, plot_height=400)\n",
    "p.vbar(x=x1, width=0.5, bottom=0, top=y1,color=Category20c[14])\n",
    "p.xgrid.visible = False\n",
    "p.ygrid.visible = False\n",
    "p.axis.axis_label_text_font_size = '12px'\n",
    "p.axis.axis_label_text_font_style = 'bold'\n",
    "p.add_tools(HoverTool(tooltips=[(\"전주시구명\", \"@x\"), (\"사건발생횟수\", \"@top\")]))\n",
    "\n",
    "show(p)"
   ]
  },
  {
   "cell_type": "code",
   "execution_count": 52,
   "metadata": {},
   "outputs": [],
   "source": [
    "from bokeh.plotting import figure, output_file, show\n",
    "\n",
    "plot = figure(plot_width=300, plot_height=300)\n",
    "plot.vbar(x=[1, 2, 3], width=0.5, bottom=0, top=[1,2,3], color=\"#CAB2D6\")\n",
    "\n",
    "show(plot)"
   ]
  },
  {
   "cell_type": "code",
   "execution_count": 23,
   "metadata": {
    "executionInfo": {
     "elapsed": 2694,
     "status": "aborted",
     "timestamp": 1620538287218,
     "user": {
      "displayName": "최재혁",
      "photoUrl": "",
      "userId": "17017420319581693931"
     },
     "user_tz": -540
    },
    "id": "i5zNKd_hm8sO"
   },
   "outputs": [],
   "source": [
    "all_dict = {}\n",
    "\n",
    "for i in range(14):\n",
    "    all_dict[name[i]] = globals()['name_{}'.format(i)]"
   ]
  },
  {
   "cell_type": "code",
   "execution_count": 28,
   "metadata": {},
   "outputs": [
    {
     "data": {
      "text/plain": [
       "{'진북동': 5,\n",
       " '덕진동2가': 10,\n",
       " '팔복동1가': 37,\n",
       " '중화산동2가': 4,\n",
       " '중노송동': 4,\n",
       " '금암동': 10,\n",
       " '효자동1가': 4,\n",
       " '덕진동1가': 5,\n",
       " '서신동': 5,\n",
       " '팔복동3가': 10,\n",
       " '고사동': 4,\n",
       " '서서학동': 4,\n",
       " '경원동3가': 12,\n",
       " '인후동1가': 4}"
      ]
     },
     "execution_count": 28,
     "metadata": {},
     "output_type": "execute_result"
    }
   ],
   "source": [
    "all_dict"
   ]
  },
  {
   "cell_type": "code",
   "execution_count": 29,
   "metadata": {},
   "outputs": [],
   "source": [
    "all_accident = pd.DataFrame(list(all_dict.items()),columns=['사고발생지역','횟수'])"
   ]
  },
  {
   "cell_type": "code",
   "execution_count": 30,
   "metadata": {},
   "outputs": [
    {
     "data": {
      "text/html": [
       "<div>\n",
       "<style scoped>\n",
       "    .dataframe tbody tr th:only-of-type {\n",
       "        vertical-align: middle;\n",
       "    }\n",
       "\n",
       "    .dataframe tbody tr th {\n",
       "        vertical-align: top;\n",
       "    }\n",
       "\n",
       "    .dataframe thead th {\n",
       "        text-align: right;\n",
       "    }\n",
       "</style>\n",
       "<table border=\"1\" class=\"dataframe\">\n",
       "  <thead>\n",
       "    <tr style=\"text-align: right;\">\n",
       "      <th></th>\n",
       "      <th>사고발생지역</th>\n",
       "      <th>횟수</th>\n",
       "    </tr>\n",
       "  </thead>\n",
       "  <tbody>\n",
       "    <tr>\n",
       "      <th>0</th>\n",
       "      <td>진북동</td>\n",
       "      <td>5</td>\n",
       "    </tr>\n",
       "    <tr>\n",
       "      <th>1</th>\n",
       "      <td>덕진동2가</td>\n",
       "      <td>10</td>\n",
       "    </tr>\n",
       "    <tr>\n",
       "      <th>2</th>\n",
       "      <td>팔복동1가</td>\n",
       "      <td>37</td>\n",
       "    </tr>\n",
       "    <tr>\n",
       "      <th>3</th>\n",
       "      <td>중화산동2가</td>\n",
       "      <td>4</td>\n",
       "    </tr>\n",
       "    <tr>\n",
       "      <th>4</th>\n",
       "      <td>중노송동</td>\n",
       "      <td>4</td>\n",
       "    </tr>\n",
       "    <tr>\n",
       "      <th>5</th>\n",
       "      <td>금암동</td>\n",
       "      <td>10</td>\n",
       "    </tr>\n",
       "    <tr>\n",
       "      <th>6</th>\n",
       "      <td>효자동1가</td>\n",
       "      <td>4</td>\n",
       "    </tr>\n",
       "    <tr>\n",
       "      <th>7</th>\n",
       "      <td>덕진동1가</td>\n",
       "      <td>5</td>\n",
       "    </tr>\n",
       "    <tr>\n",
       "      <th>8</th>\n",
       "      <td>서신동</td>\n",
       "      <td>5</td>\n",
       "    </tr>\n",
       "    <tr>\n",
       "      <th>9</th>\n",
       "      <td>팔복동3가</td>\n",
       "      <td>10</td>\n",
       "    </tr>\n",
       "    <tr>\n",
       "      <th>10</th>\n",
       "      <td>고사동</td>\n",
       "      <td>4</td>\n",
       "    </tr>\n",
       "    <tr>\n",
       "      <th>11</th>\n",
       "      <td>서서학동</td>\n",
       "      <td>4</td>\n",
       "    </tr>\n",
       "    <tr>\n",
       "      <th>12</th>\n",
       "      <td>경원동3가</td>\n",
       "      <td>12</td>\n",
       "    </tr>\n",
       "    <tr>\n",
       "      <th>13</th>\n",
       "      <td>인후동1가</td>\n",
       "      <td>4</td>\n",
       "    </tr>\n",
       "  </tbody>\n",
       "</table>\n",
       "</div>"
      ],
      "text/plain": [
       "    사고발생지역  횟수\n",
       "0      진북동   5\n",
       "1    덕진동2가  10\n",
       "2    팔복동1가  37\n",
       "3   중화산동2가   4\n",
       "4     중노송동   4\n",
       "5      금암동  10\n",
       "6    효자동1가   4\n",
       "7    덕진동1가   5\n",
       "8      서신동   5\n",
       "9    팔복동3가  10\n",
       "10     고사동   4\n",
       "11    서서학동   4\n",
       "12   경원동3가  12\n",
       "13   인후동1가   4"
      ]
     },
     "execution_count": 30,
     "metadata": {},
     "output_type": "execute_result"
    }
   ],
   "source": [
    "all_accident"
   ]
  },
  {
   "cell_type": "code",
   "execution_count": 36,
   "metadata": {},
   "outputs": [],
   "source": [
    "y=[i for i in all_accident['사고발생지역']]"
   ]
  },
  {
   "cell_type": "markdown",
   "metadata": {},
   "source": [
    "# 그래프 시각화"
   ]
  },
  {
   "cell_type": "code",
   "execution_count": 58,
   "metadata": {},
   "outputs": [
    {
     "data": {
      "text/html": [
       "\n",
       "    <div class=\"bk-root\">\n",
       "        <a href=\"https://bokeh.org\" target=\"_blank\" class=\"bk-logo bk-logo-small bk-logo-notebook\"></a>\n",
       "        <span id=\"4465\">Loading BokehJS ...</span>\n",
       "    </div>"
      ]
     },
     "metadata": {},
     "output_type": "display_data"
    },
    {
     "data": {
      "application/javascript": [
       "\n",
       "(function(root) {\n",
       "  function now() {\n",
       "    return new Date();\n",
       "  }\n",
       "\n",
       "  var force = true;\n",
       "\n",
       "  if (typeof root._bokeh_onload_callbacks === \"undefined\" || force === true) {\n",
       "    root._bokeh_onload_callbacks = [];\n",
       "    root._bokeh_is_loading = undefined;\n",
       "  }\n",
       "\n",
       "  var JS_MIME_TYPE = 'application/javascript';\n",
       "  var HTML_MIME_TYPE = 'text/html';\n",
       "  var EXEC_MIME_TYPE = 'application/vnd.bokehjs_exec.v0+json';\n",
       "  var CLASS_NAME = 'output_bokeh rendered_html';\n",
       "\n",
       "  /**\n",
       "   * Render data to the DOM node\n",
       "   */\n",
       "  function render(props, node) {\n",
       "    var script = document.createElement(\"script\");\n",
       "    node.appendChild(script);\n",
       "  }\n",
       "\n",
       "  /**\n",
       "   * Handle when an output is cleared or removed\n",
       "   */\n",
       "  function handleClearOutput(event, handle) {\n",
       "    var cell = handle.cell;\n",
       "\n",
       "    var id = cell.output_area._bokeh_element_id;\n",
       "    var server_id = cell.output_area._bokeh_server_id;\n",
       "    // Clean up Bokeh references\n",
       "    if (id != null && id in Bokeh.index) {\n",
       "      Bokeh.index[id].model.document.clear();\n",
       "      delete Bokeh.index[id];\n",
       "    }\n",
       "\n",
       "    if (server_id !== undefined) {\n",
       "      // Clean up Bokeh references\n",
       "      var cmd = \"from bokeh.io.state import curstate; print(curstate().uuid_to_server['\" + server_id + \"'].get_sessions()[0].document.roots[0]._id)\";\n",
       "      cell.notebook.kernel.execute(cmd, {\n",
       "        iopub: {\n",
       "          output: function(msg) {\n",
       "            var id = msg.content.text.trim();\n",
       "            if (id in Bokeh.index) {\n",
       "              Bokeh.index[id].model.document.clear();\n",
       "              delete Bokeh.index[id];\n",
       "            }\n",
       "          }\n",
       "        }\n",
       "      });\n",
       "      // Destroy server and session\n",
       "      var cmd = \"import bokeh.io.notebook as ion; ion.destroy_server('\" + server_id + \"')\";\n",
       "      cell.notebook.kernel.execute(cmd);\n",
       "    }\n",
       "  }\n",
       "\n",
       "  /**\n",
       "   * Handle when a new output is added\n",
       "   */\n",
       "  function handleAddOutput(event, handle) {\n",
       "    var output_area = handle.output_area;\n",
       "    var output = handle.output;\n",
       "\n",
       "    // limit handleAddOutput to display_data with EXEC_MIME_TYPE content only\n",
       "    if ((output.output_type != \"display_data\") || (!Object.prototype.hasOwnProperty.call(output.data, EXEC_MIME_TYPE))) {\n",
       "      return\n",
       "    }\n",
       "\n",
       "    var toinsert = output_area.element.find(\".\" + CLASS_NAME.split(' ')[0]);\n",
       "\n",
       "    if (output.metadata[EXEC_MIME_TYPE][\"id\"] !== undefined) {\n",
       "      toinsert[toinsert.length - 1].firstChild.textContent = output.data[JS_MIME_TYPE];\n",
       "      // store reference to embed id on output_area\n",
       "      output_area._bokeh_element_id = output.metadata[EXEC_MIME_TYPE][\"id\"];\n",
       "    }\n",
       "    if (output.metadata[EXEC_MIME_TYPE][\"server_id\"] !== undefined) {\n",
       "      var bk_div = document.createElement(\"div\");\n",
       "      bk_div.innerHTML = output.data[HTML_MIME_TYPE];\n",
       "      var script_attrs = bk_div.children[0].attributes;\n",
       "      for (var i = 0; i < script_attrs.length; i++) {\n",
       "        toinsert[toinsert.length - 1].firstChild.setAttribute(script_attrs[i].name, script_attrs[i].value);\n",
       "        toinsert[toinsert.length - 1].firstChild.textContent = bk_div.children[0].textContent\n",
       "      }\n",
       "      // store reference to server id on output_area\n",
       "      output_area._bokeh_server_id = output.metadata[EXEC_MIME_TYPE][\"server_id\"];\n",
       "    }\n",
       "  }\n",
       "\n",
       "  function register_renderer(events, OutputArea) {\n",
       "\n",
       "    function append_mime(data, metadata, element) {\n",
       "      // create a DOM node to render to\n",
       "      var toinsert = this.create_output_subarea(\n",
       "        metadata,\n",
       "        CLASS_NAME,\n",
       "        EXEC_MIME_TYPE\n",
       "      );\n",
       "      this.keyboard_manager.register_events(toinsert);\n",
       "      // Render to node\n",
       "      var props = {data: data, metadata: metadata[EXEC_MIME_TYPE]};\n",
       "      render(props, toinsert[toinsert.length - 1]);\n",
       "      element.append(toinsert);\n",
       "      return toinsert\n",
       "    }\n",
       "\n",
       "    /* Handle when an output is cleared or removed */\n",
       "    events.on('clear_output.CodeCell', handleClearOutput);\n",
       "    events.on('delete.Cell', handleClearOutput);\n",
       "\n",
       "    /* Handle when a new output is added */\n",
       "    events.on('output_added.OutputArea', handleAddOutput);\n",
       "\n",
       "    /**\n",
       "     * Register the mime type and append_mime function with output_area\n",
       "     */\n",
       "    OutputArea.prototype.register_mime_type(EXEC_MIME_TYPE, append_mime, {\n",
       "      /* Is output safe? */\n",
       "      safe: true,\n",
       "      /* Index of renderer in `output_area.display_order` */\n",
       "      index: 0\n",
       "    });\n",
       "  }\n",
       "\n",
       "  // register the mime type if in Jupyter Notebook environment and previously unregistered\n",
       "  if (root.Jupyter !== undefined) {\n",
       "    var events = require('base/js/events');\n",
       "    var OutputArea = require('notebook/js/outputarea').OutputArea;\n",
       "\n",
       "    if (OutputArea.prototype.mime_types().indexOf(EXEC_MIME_TYPE) == -1) {\n",
       "      register_renderer(events, OutputArea);\n",
       "    }\n",
       "  }\n",
       "\n",
       "  \n",
       "  if (typeof (root._bokeh_timeout) === \"undefined\" || force === true) {\n",
       "    root._bokeh_timeout = Date.now() + 5000;\n",
       "    root._bokeh_failed_load = false;\n",
       "  }\n",
       "\n",
       "  var NB_LOAD_WARNING = {'data': {'text/html':\n",
       "     \"<div style='background-color: #fdd'>\\n\"+\n",
       "     \"<p>\\n\"+\n",
       "     \"BokehJS does not appear to have successfully loaded. If loading BokehJS from CDN, this \\n\"+\n",
       "     \"may be due to a slow or bad network connection. Possible fixes:\\n\"+\n",
       "     \"</p>\\n\"+\n",
       "     \"<ul>\\n\"+\n",
       "     \"<li>re-rerun `output_notebook()` to attempt to load from CDN again, or</li>\\n\"+\n",
       "     \"<li>use INLINE resources instead, as so:</li>\\n\"+\n",
       "     \"</ul>\\n\"+\n",
       "     \"<code>\\n\"+\n",
       "     \"from bokeh.resources import INLINE\\n\"+\n",
       "     \"output_notebook(resources=INLINE)\\n\"+\n",
       "     \"</code>\\n\"+\n",
       "     \"</div>\"}};\n",
       "\n",
       "  function display_loaded() {\n",
       "    var el = document.getElementById(\"4465\");\n",
       "    if (el != null) {\n",
       "      el.textContent = \"BokehJS is loading...\";\n",
       "    }\n",
       "    if (root.Bokeh !== undefined) {\n",
       "      if (el != null) {\n",
       "        el.textContent = \"BokehJS \" + root.Bokeh.version + \" successfully loaded.\";\n",
       "      }\n",
       "    } else if (Date.now() < root._bokeh_timeout) {\n",
       "      setTimeout(display_loaded, 100)\n",
       "    }\n",
       "  }\n",
       "\n",
       "\n",
       "  function run_callbacks() {\n",
       "    try {\n",
       "      root._bokeh_onload_callbacks.forEach(function(callback) {\n",
       "        if (callback != null)\n",
       "          callback();\n",
       "      });\n",
       "    } finally {\n",
       "      delete root._bokeh_onload_callbacks\n",
       "    }\n",
       "    console.debug(\"Bokeh: all callbacks have finished\");\n",
       "  }\n",
       "\n",
       "  function load_libs(css_urls, js_urls, callback) {\n",
       "    if (css_urls == null) css_urls = [];\n",
       "    if (js_urls == null) js_urls = [];\n",
       "\n",
       "    root._bokeh_onload_callbacks.push(callback);\n",
       "    if (root._bokeh_is_loading > 0) {\n",
       "      console.debug(\"Bokeh: BokehJS is being loaded, scheduling callback at\", now());\n",
       "      return null;\n",
       "    }\n",
       "    if (js_urls == null || js_urls.length === 0) {\n",
       "      run_callbacks();\n",
       "      return null;\n",
       "    }\n",
       "    console.debug(\"Bokeh: BokehJS not loaded, scheduling load and callback at\", now());\n",
       "    root._bokeh_is_loading = css_urls.length + js_urls.length;\n",
       "\n",
       "    function on_load() {\n",
       "      root._bokeh_is_loading--;\n",
       "      if (root._bokeh_is_loading === 0) {\n",
       "        console.debug(\"Bokeh: all BokehJS libraries/stylesheets loaded\");\n",
       "        run_callbacks()\n",
       "      }\n",
       "    }\n",
       "\n",
       "    function on_error(url) {\n",
       "      console.error(\"failed to load \" + url);\n",
       "    }\n",
       "\n",
       "    for (let i = 0; i < css_urls.length; i++) {\n",
       "      const url = css_urls[i];\n",
       "      const element = document.createElement(\"link\");\n",
       "      element.onload = on_load;\n",
       "      element.onerror = on_error.bind(null, url);\n",
       "      element.rel = \"stylesheet\";\n",
       "      element.type = \"text/css\";\n",
       "      element.href = url;\n",
       "      console.debug(\"Bokeh: injecting link tag for BokehJS stylesheet: \", url);\n",
       "      document.body.appendChild(element);\n",
       "    }\n",
       "\n",
       "    const hashes = {\"https://cdn.bokeh.org/bokeh/release/bokeh-2.3.0.min.js\": \"HjagQp6T0/7bxYTAXbLotF1MLAGWmhkY5siA1Gc/pcEgvgRPtMsRn0gQtMwGKiw1\", \"https://cdn.bokeh.org/bokeh/release/bokeh-widgets-2.3.0.min.js\": \"ZEPPTjL+mdyqgIq+/pl9KTwzji8Kow2NnI3zWY8+sFinWP/SYJ80BnfeJsa45iYj\", \"https://cdn.bokeh.org/bokeh/release/bokeh-tables-2.3.0.min.js\": \"exLqv2ACDRIaV7ZK1iL8aGzGYQvKVuT3U2CT7FsQREBxRah6JrkVCoFy0koY1YqV\"};\n",
       "\n",
       "    for (let i = 0; i < js_urls.length; i++) {\n",
       "      const url = js_urls[i];\n",
       "      const element = document.createElement('script');\n",
       "      element.onload = on_load;\n",
       "      element.onerror = on_error.bind(null, url);\n",
       "      element.async = false;\n",
       "      element.src = url;\n",
       "      if (url in hashes) {\n",
       "        element.crossOrigin = \"anonymous\";\n",
       "        element.integrity = \"sha384-\" + hashes[url];\n",
       "      }\n",
       "      console.debug(\"Bokeh: injecting script tag for BokehJS library: \", url);\n",
       "      document.head.appendChild(element);\n",
       "    }\n",
       "  };\n",
       "\n",
       "  function inject_raw_css(css) {\n",
       "    const element = document.createElement(\"style\");\n",
       "    element.appendChild(document.createTextNode(css));\n",
       "    document.body.appendChild(element);\n",
       "  }\n",
       "\n",
       "  \n",
       "  var js_urls = [\"https://cdn.bokeh.org/bokeh/release/bokeh-2.3.0.min.js\", \"https://cdn.bokeh.org/bokeh/release/bokeh-widgets-2.3.0.min.js\", \"https://cdn.bokeh.org/bokeh/release/bokeh-tables-2.3.0.min.js\"];\n",
       "  var css_urls = [];\n",
       "  \n",
       "\n",
       "  var inline_js = [\n",
       "    function(Bokeh) {\n",
       "      Bokeh.set_log_level(\"info\");\n",
       "    },\n",
       "    function(Bokeh) {\n",
       "    \n",
       "    \n",
       "    }\n",
       "  ];\n",
       "\n",
       "  function run_inline_js() {\n",
       "    \n",
       "    if (root.Bokeh !== undefined || force === true) {\n",
       "      \n",
       "    for (var i = 0; i < inline_js.length; i++) {\n",
       "      inline_js[i].call(root, root.Bokeh);\n",
       "    }\n",
       "    if (force === true) {\n",
       "        display_loaded();\n",
       "      }} else if (Date.now() < root._bokeh_timeout) {\n",
       "      setTimeout(run_inline_js, 100);\n",
       "    } else if (!root._bokeh_failed_load) {\n",
       "      console.log(\"Bokeh: BokehJS failed to load within specified timeout.\");\n",
       "      root._bokeh_failed_load = true;\n",
       "    } else if (force !== true) {\n",
       "      var cell = $(document.getElementById(\"4465\")).parents('.cell').data().cell;\n",
       "      cell.output_area.append_execute_result(NB_LOAD_WARNING)\n",
       "    }\n",
       "\n",
       "  }\n",
       "\n",
       "  if (root._bokeh_is_loading === 0) {\n",
       "    console.debug(\"Bokeh: BokehJS loaded, going straight to plotting\");\n",
       "    run_inline_js();\n",
       "  } else {\n",
       "    load_libs(css_urls, js_urls, function() {\n",
       "      console.debug(\"Bokeh: BokehJS plotting callback run at\", now());\n",
       "      run_inline_js();\n",
       "    });\n",
       "  }\n",
       "}(window));"
      ],
      "application/vnd.bokehjs_load.v0+json": "\n(function(root) {\n  function now() {\n    return new Date();\n  }\n\n  var force = true;\n\n  if (typeof root._bokeh_onload_callbacks === \"undefined\" || force === true) {\n    root._bokeh_onload_callbacks = [];\n    root._bokeh_is_loading = undefined;\n  }\n\n  \n\n  \n  if (typeof (root._bokeh_timeout) === \"undefined\" || force === true) {\n    root._bokeh_timeout = Date.now() + 5000;\n    root._bokeh_failed_load = false;\n  }\n\n  var NB_LOAD_WARNING = {'data': {'text/html':\n     \"<div style='background-color: #fdd'>\\n\"+\n     \"<p>\\n\"+\n     \"BokehJS does not appear to have successfully loaded. If loading BokehJS from CDN, this \\n\"+\n     \"may be due to a slow or bad network connection. Possible fixes:\\n\"+\n     \"</p>\\n\"+\n     \"<ul>\\n\"+\n     \"<li>re-rerun `output_notebook()` to attempt to load from CDN again, or</li>\\n\"+\n     \"<li>use INLINE resources instead, as so:</li>\\n\"+\n     \"</ul>\\n\"+\n     \"<code>\\n\"+\n     \"from bokeh.resources import INLINE\\n\"+\n     \"output_notebook(resources=INLINE)\\n\"+\n     \"</code>\\n\"+\n     \"</div>\"}};\n\n  function display_loaded() {\n    var el = document.getElementById(\"4465\");\n    if (el != null) {\n      el.textContent = \"BokehJS is loading...\";\n    }\n    if (root.Bokeh !== undefined) {\n      if (el != null) {\n        el.textContent = \"BokehJS \" + root.Bokeh.version + \" successfully loaded.\";\n      }\n    } else if (Date.now() < root._bokeh_timeout) {\n      setTimeout(display_loaded, 100)\n    }\n  }\n\n\n  function run_callbacks() {\n    try {\n      root._bokeh_onload_callbacks.forEach(function(callback) {\n        if (callback != null)\n          callback();\n      });\n    } finally {\n      delete root._bokeh_onload_callbacks\n    }\n    console.debug(\"Bokeh: all callbacks have finished\");\n  }\n\n  function load_libs(css_urls, js_urls, callback) {\n    if (css_urls == null) css_urls = [];\n    if (js_urls == null) js_urls = [];\n\n    root._bokeh_onload_callbacks.push(callback);\n    if (root._bokeh_is_loading > 0) {\n      console.debug(\"Bokeh: BokehJS is being loaded, scheduling callback at\", now());\n      return null;\n    }\n    if (js_urls == null || js_urls.length === 0) {\n      run_callbacks();\n      return null;\n    }\n    console.debug(\"Bokeh: BokehJS not loaded, scheduling load and callback at\", now());\n    root._bokeh_is_loading = css_urls.length + js_urls.length;\n\n    function on_load() {\n      root._bokeh_is_loading--;\n      if (root._bokeh_is_loading === 0) {\n        console.debug(\"Bokeh: all BokehJS libraries/stylesheets loaded\");\n        run_callbacks()\n      }\n    }\n\n    function on_error(url) {\n      console.error(\"failed to load \" + url);\n    }\n\n    for (let i = 0; i < css_urls.length; i++) {\n      const url = css_urls[i];\n      const element = document.createElement(\"link\");\n      element.onload = on_load;\n      element.onerror = on_error.bind(null, url);\n      element.rel = \"stylesheet\";\n      element.type = \"text/css\";\n      element.href = url;\n      console.debug(\"Bokeh: injecting link tag for BokehJS stylesheet: \", url);\n      document.body.appendChild(element);\n    }\n\n    const hashes = {\"https://cdn.bokeh.org/bokeh/release/bokeh-2.3.0.min.js\": \"HjagQp6T0/7bxYTAXbLotF1MLAGWmhkY5siA1Gc/pcEgvgRPtMsRn0gQtMwGKiw1\", \"https://cdn.bokeh.org/bokeh/release/bokeh-widgets-2.3.0.min.js\": \"ZEPPTjL+mdyqgIq+/pl9KTwzji8Kow2NnI3zWY8+sFinWP/SYJ80BnfeJsa45iYj\", \"https://cdn.bokeh.org/bokeh/release/bokeh-tables-2.3.0.min.js\": \"exLqv2ACDRIaV7ZK1iL8aGzGYQvKVuT3U2CT7FsQREBxRah6JrkVCoFy0koY1YqV\"};\n\n    for (let i = 0; i < js_urls.length; i++) {\n      const url = js_urls[i];\n      const element = document.createElement('script');\n      element.onload = on_load;\n      element.onerror = on_error.bind(null, url);\n      element.async = false;\n      element.src = url;\n      if (url in hashes) {\n        element.crossOrigin = \"anonymous\";\n        element.integrity = \"sha384-\" + hashes[url];\n      }\n      console.debug(\"Bokeh: injecting script tag for BokehJS library: \", url);\n      document.head.appendChild(element);\n    }\n  };\n\n  function inject_raw_css(css) {\n    const element = document.createElement(\"style\");\n    element.appendChild(document.createTextNode(css));\n    document.body.appendChild(element);\n  }\n\n  \n  var js_urls = [\"https://cdn.bokeh.org/bokeh/release/bokeh-2.3.0.min.js\", \"https://cdn.bokeh.org/bokeh/release/bokeh-widgets-2.3.0.min.js\", \"https://cdn.bokeh.org/bokeh/release/bokeh-tables-2.3.0.min.js\"];\n  var css_urls = [];\n  \n\n  var inline_js = [\n    function(Bokeh) {\n      Bokeh.set_log_level(\"info\");\n    },\n    function(Bokeh) {\n    \n    \n    }\n  ];\n\n  function run_inline_js() {\n    \n    if (root.Bokeh !== undefined || force === true) {\n      \n    for (var i = 0; i < inline_js.length; i++) {\n      inline_js[i].call(root, root.Bokeh);\n    }\n    if (force === true) {\n        display_loaded();\n      }} else if (Date.now() < root._bokeh_timeout) {\n      setTimeout(run_inline_js, 100);\n    } else if (!root._bokeh_failed_load) {\n      console.log(\"Bokeh: BokehJS failed to load within specified timeout.\");\n      root._bokeh_failed_load = true;\n    } else if (force !== true) {\n      var cell = $(document.getElementById(\"4465\")).parents('.cell').data().cell;\n      cell.output_area.append_execute_result(NB_LOAD_WARNING)\n    }\n\n  }\n\n  if (root._bokeh_is_loading === 0) {\n    console.debug(\"Bokeh: BokehJS loaded, going straight to plotting\");\n    run_inline_js();\n  } else {\n    load_libs(css_urls, js_urls, function() {\n      console.debug(\"Bokeh: BokehJS plotting callback run at\", now());\n      run_inline_js();\n    });\n  }\n}(window));"
     },
     "metadata": {},
     "output_type": "display_data"
    },
    {
     "data": {
      "text/html": [
       "\n",
       "\n",
       "\n",
       "\n",
       "\n",
       "\n",
       "  <div class=\"bk-root\" id=\"4a6f8ce3-d773-48a2-b8c9-73ad75f19dec\" data-root-id=\"4508\"></div>\n"
      ]
     },
     "metadata": {},
     "output_type": "display_data"
    },
    {
     "data": {
      "application/javascript": [
       "(function(root) {\n",
       "  function embed_document(root) {\n",
       "    \n",
       "  var docs_json = {\"068a89cf-c8c0-433c-bd90-c63e098cbaa8\":{\"defs\":[{\"extends\":null,\"module\":null,\"name\":\"DataModel\",\"overrides\":[],\"properties\":[]}],\"roots\":{\"references\":[{\"attributes\":{\"children\":[{\"id\":\"4466\"}]},\"id\":\"4508\",\"type\":\"Row\"},{\"attributes\":{\"data_source\":{\"id\":\"4501\"},\"glyph\":{\"id\":\"4502\"},\"hover_glyph\":null,\"muted_glyph\":null,\"nonselection_glyph\":{\"id\":\"4503\"},\"view\":{\"id\":\"4505\"}},\"id\":\"4504\",\"type\":\"GlyphRenderer\"},{\"attributes\":{\"axis\":{\"id\":\"4475\"},\"ticker\":null,\"visible\":false},\"id\":\"4477\",\"type\":\"Grid\"},{\"attributes\":{\"background_fill_color\":\"#fafafa\",\"below\":[{\"id\":\"4475\"}],\"center\":[{\"id\":\"4477\"},{\"id\":\"4481\"}],\"height\":400,\"left\":[{\"id\":\"4478\"}],\"renderers\":[{\"id\":\"4499\"},{\"id\":\"4504\"}],\"title\":{\"id\":\"4536\"},\"toolbar\":{\"id\":\"4489\"},\"toolbar_location\":\"above\",\"width\":1000,\"x_range\":{\"id\":\"4467\"},\"x_scale\":{\"id\":\"4471\"},\"y_range\":{\"id\":\"4469\"},\"y_scale\":{\"id\":\"4473\"}},\"id\":\"4466\",\"subtype\":\"Figure\",\"type\":\"Plot\"},{\"attributes\":{},\"id\":\"4541\",\"type\":\"BasicTickFormatter\"},{\"attributes\":{\"axis\":{\"id\":\"4478\"},\"dimension\":1,\"ticker\":null,\"visible\":false},\"id\":\"4481\",\"type\":\"Grid\"},{\"attributes\":{\"axis_label\":\"\\uc0ac\\uace0\\ud69f\\uc218\",\"axis_label_text_font_size\":\"12px\",\"axis_label_text_font_style\":\"bold\",\"formatter\":{\"id\":\"4541\"},\"major_label_policy\":{\"id\":\"4540\"},\"major_tick_line_color\":null,\"ticker\":{\"id\":\"4479\"}},\"id\":\"4478\",\"type\":\"LinearAxis\"},{\"attributes\":{\"factors\":[\"\\uc9c4\\ubd81\\ub3d9\",\"\\ub355\\uc9c4\\ub3d92\\uac00\",\"\\ud314\\ubcf5\\ub3d91\\uac00\",\"\\uc911\\ud654\\uc0b0\\ub3d92\\uac00\",\"\\uc911\\ub178\\uc1a1\\ub3d9\",\"\\uae08\\uc554\\ub3d9\",\"\\ud6a8\\uc790\\ub3d91\\uac00\",\"\\ub355\\uc9c4\\ub3d91\\uac00\",\"\\uc11c\\uc2e0\\ub3d9\",\"\\ud314\\ubcf5\\ub3d93\\uac00\",\"\\uace0\\uc0ac\\ub3d9\",\"\\uc11c\\uc11c\\ud559\\ub3d9\",\"\\uacbd\\uc6d0\\ub3d93\\uac00\",\"\\uc778\\ud6c4\\ub3d91\\uac00\"]},\"id\":\"4467\",\"type\":\"FactorRange\"},{\"attributes\":{},\"id\":\"4544\",\"type\":\"UnionRenderers\"},{\"attributes\":{\"callback\":null,\"tooltips\":[[\"\\uc801\\ubc1c\\uc9c0\\uc5ed\",\"@x\"],[\"\\uc801\\ubc1c\\uac74\\uc218\",\"@y\"]]},\"id\":\"4506\",\"type\":\"HoverTool\"},{\"attributes\":{},\"id\":\"4536\",\"type\":\"Title\"},{\"attributes\":{},\"id\":\"4547\",\"type\":\"Selection\"},{\"attributes\":{\"source\":{\"id\":\"4501\"}},\"id\":\"4505\",\"type\":\"CDSView\"},{\"attributes\":{},\"id\":\"4538\",\"type\":\"CategoricalTickFormatter\"},{\"attributes\":{\"data_source\":{\"id\":\"4496\"},\"glyph\":{\"id\":\"4497\"},\"hover_glyph\":null,\"muted_glyph\":null,\"nonselection_glyph\":{\"id\":\"4498\"},\"view\":{\"id\":\"4500\"}},\"id\":\"4499\",\"type\":\"GlyphRenderer\"},{\"attributes\":{},\"id\":\"4485\",\"type\":\"SaveTool\"},{\"attributes\":{\"data\":{\"x\":[\"\\uc9c4\\ubd81\\ub3d9\",\"\\ub355\\uc9c4\\ub3d92\\uac00\",\"\\ud314\\ubcf5\\ub3d91\\uac00\",\"\\uc911\\ud654\\uc0b0\\ub3d92\\uac00\",\"\\uc911\\ub178\\uc1a1\\ub3d9\",\"\\uae08\\uc554\\ub3d9\",\"\\ud6a8\\uc790\\ub3d91\\uac00\",\"\\ub355\\uc9c4\\ub3d91\\uac00\",\"\\uc11c\\uc2e0\\ub3d9\",\"\\ud314\\ubcf5\\ub3d93\\uac00\",\"\\uace0\\uc0ac\\ub3d9\",\"\\uc11c\\uc11c\\ud559\\ub3d9\",\"\\uacbd\\uc6d0\\ub3d93\\uac00\",\"\\uc778\\ud6c4\\ub3d91\\uac00\"],\"y\":[5,10,37,4,4,10,4,5,5,10,4,4,12,4]},\"selected\":{\"id\":\"4547\"},\"selection_policy\":{\"id\":\"4546\"}},\"id\":\"4501\",\"type\":\"ColumnDataSource\"},{\"attributes\":{},\"id\":\"4486\",\"type\":\"ResetTool\"},{\"attributes\":{},\"id\":\"4471\",\"type\":\"CategoricalScale\"},{\"attributes\":{},\"id\":\"4487\",\"type\":\"HelpTool\"},{\"attributes\":{\"fill_alpha\":{\"value\":0.1},\"fill_color\":{\"value\":\"black\"},\"line_alpha\":{\"value\":0.1},\"size\":{\"value\":10},\"x\":{\"field\":\"x\"},\"y\":{\"field\":\"y\"}},\"id\":\"4503\",\"type\":\"Circle\"},{\"attributes\":{\"bottom_units\":\"screen\",\"fill_alpha\":0.5,\"fill_color\":\"lightgrey\",\"left_units\":\"screen\",\"level\":\"overlay\",\"line_alpha\":1.0,\"line_color\":\"black\",\"line_dash\":[4,4],\"line_width\":2,\"right_units\":\"screen\",\"syncable\":false,\"top_units\":\"screen\"},\"id\":\"4488\",\"type\":\"BoxAnnotation\"},{\"attributes\":{},\"id\":\"4540\",\"type\":\"AllLabels\"},{\"attributes\":{},\"id\":\"4479\",\"type\":\"BasicTicker\"},{\"attributes\":{},\"id\":\"4537\",\"type\":\"AllLabels\"},{\"attributes\":{\"overlay\":{\"id\":\"4488\"}},\"id\":\"4484\",\"type\":\"BoxZoomTool\"},{\"attributes\":{\"line_color\":\"#1f77b4\",\"line_width\":5,\"x\":{\"field\":\"x\"},\"y\":{\"field\":\"y\"}},\"id\":\"4497\",\"type\":\"Line\"},{\"attributes\":{},\"id\":\"4482\",\"type\":\"PanTool\"},{\"attributes\":{\"line_alpha\":0.1,\"line_color\":\"#1f77b4\",\"line_width\":5,\"x\":{\"field\":\"x\"},\"y\":{\"field\":\"y\"}},\"id\":\"4498\",\"type\":\"Line\"},{\"attributes\":{},\"id\":\"4483\",\"type\":\"WheelZoomTool\"},{\"attributes\":{},\"id\":\"4546\",\"type\":\"UnionRenderers\"},{\"attributes\":{\"source\":{\"id\":\"4496\"}},\"id\":\"4500\",\"type\":\"CDSView\"},{\"attributes\":{\"fill_color\":{\"value\":\"black\"},\"size\":{\"value\":10},\"x\":{\"field\":\"x\"},\"y\":{\"field\":\"y\"}},\"id\":\"4502\",\"type\":\"Circle\"},{\"attributes\":{},\"id\":\"4476\",\"type\":\"CategoricalTicker\"},{\"attributes\":{},\"id\":\"4473\",\"type\":\"LinearScale\"},{\"attributes\":{},\"id\":\"4545\",\"type\":\"Selection\"},{\"attributes\":{\"end\":40},\"id\":\"4469\",\"type\":\"Range1d\"},{\"attributes\":{\"axis_label\":\"\\uc0ac\\uace0\\ubc1c\\uc0dd\\uc9c0\\uc5ed\",\"axis_label_text_font_size\":\"12px\",\"axis_label_text_font_style\":\"bold\",\"formatter\":{\"id\":\"4538\"},\"major_label_policy\":{\"id\":\"4537\"},\"ticker\":{\"id\":\"4476\"}},\"id\":\"4475\",\"type\":\"CategoricalAxis\"},{\"attributes\":{\"active_multi\":null,\"tools\":[{\"id\":\"4482\"},{\"id\":\"4483\"},{\"id\":\"4484\"},{\"id\":\"4485\"},{\"id\":\"4486\"},{\"id\":\"4487\"},{\"id\":\"4506\"}]},\"id\":\"4489\",\"type\":\"Toolbar\"},{\"attributes\":{\"data\":{\"x\":[\"\\uc9c4\\ubd81\\ub3d9\",\"\\ub355\\uc9c4\\ub3d92\\uac00\",\"\\ud314\\ubcf5\\ub3d91\\uac00\",\"\\uc911\\ud654\\uc0b0\\ub3d92\\uac00\",\"\\uc911\\ub178\\uc1a1\\ub3d9\",\"\\uae08\\uc554\\ub3d9\",\"\\ud6a8\\uc790\\ub3d91\\uac00\",\"\\ub355\\uc9c4\\ub3d91\\uac00\",\"\\uc11c\\uc2e0\\ub3d9\",\"\\ud314\\ubcf5\\ub3d93\\uac00\",\"\\uace0\\uc0ac\\ub3d9\",\"\\uc11c\\uc11c\\ud559\\ub3d9\",\"\\uacbd\\uc6d0\\ub3d93\\uac00\",\"\\uc778\\ud6c4\\ub3d91\\uac00\"],\"y\":[5,10,37,4,4,10,4,5,5,10,4,4,12,4]},\"selected\":{\"id\":\"4545\"},\"selection_policy\":{\"id\":\"4544\"}},\"id\":\"4496\",\"type\":\"ColumnDataSource\"}],\"root_ids\":[\"4508\"]},\"title\":\"Bokeh Application\",\"version\":\"2.3.0\"}};\n",
       "  var render_items = [{\"docid\":\"068a89cf-c8c0-433c-bd90-c63e098cbaa8\",\"root_ids\":[\"4508\"],\"roots\":{\"4508\":\"4a6f8ce3-d773-48a2-b8c9-73ad75f19dec\"}}];\n",
       "  root.Bokeh.embed.embed_items_notebook(docs_json, render_items);\n",
       "\n",
       "  }\n",
       "  if (root.Bokeh !== undefined) {\n",
       "    embed_document(root);\n",
       "  } else {\n",
       "    var attempts = 0;\n",
       "    var timer = setInterval(function(root) {\n",
       "      if (root.Bokeh !== undefined) {\n",
       "        clearInterval(timer);\n",
       "        embed_document(root);\n",
       "      } else {\n",
       "        attempts++;\n",
       "        if (attempts > 100) {\n",
       "          clearInterval(timer);\n",
       "          console.log(\"Bokeh: ERROR: Unable to run BokehJS code because BokehJS library is missing\");\n",
       "        }\n",
       "      }\n",
       "    }, 10, root)\n",
       "  }\n",
       "})(window);"
      ],
      "application/vnd.bokehjs_exec.v0+json": ""
     },
     "metadata": {
      "application/vnd.bokehjs_exec.v0+json": {
       "id": "4508"
      }
     },
     "output_type": "display_data"
    }
   ],
   "source": [
    "from bokeh.io import push_notebook, show, output_notebook , output_file\n",
    "from bokeh.layouts import row\n",
    "from bokeh.plotting import figure\n",
    "from bokeh.layouts import gridplot\n",
    "output_notebook()\n",
    "from bokeh.layouts import row\n",
    "from bokeh.models import Range1d, HoverTool\n",
    "output_file(\"C:/Users/wowog/Desktop/전주시_자전거사고_시각화_그래프.html\")\n",
    "s1 = figure(background_fill_color=\"#fafafa\" ,x_axis_label='사고발생지역',\n",
    "           y_axis_label='사고횟수',x_range=[i for i in all_accident['사고발생지역']], y_range=(0,40),width=1000,height=400,toolbar_location=\"above\")\n",
    "\n",
    "\n",
    "s1.line(x=[i for i in all_accident['사고발생지역']],y=[i for i in all_accident['횟수']] , line_width=5 )\n",
    "s1.circle(x=[i for i in all_accident['사고발생지역']],y=[i for i in all_accident['횟수']], size=10, color='black')\n",
    "\n",
    "# s1.xaxis.ticker = list(range(1, 13))\n",
    "# s1.yaxis.ticker = list(range(0, 40,5))\n",
    "s1.xgrid.visible = False\n",
    "s1.ygrid.visible = False\n",
    "\n",
    "s1.axis.axis_label_text_font_size = '12px'\n",
    "s1.axis.axis_label_text_font_style = 'bold'\n",
    "# s1.xaxis.text_font_style = \"bold\"\n",
    "s1.yaxis.major_tick_line_color = None\n",
    "\n",
    "s1.add_tools(HoverTool(tooltips=[(\"적발지역\", \"@x\"), (\"적발건수\", \"@y\")]))\n",
    "grid = row(s1)\n",
    "show(grid)"
   ]
  }
 ],
 "metadata": {
  "colab": {
   "name": "전주시 사고 데이터 추출및 동별 사고 발생횟수 나누기.ipynb",
   "provenance": []
  },
  "kernelspec": {
   "display_name": "choi",
   "language": "python",
   "name": "choi"
  },
  "language_info": {
   "codemirror_mode": {
    "name": "ipython",
    "version": 3
   },
   "file_extension": ".py",
   "mimetype": "text/x-python",
   "name": "python",
   "nbconvert_exporter": "python",
   "pygments_lexer": "ipython3",
   "version": "3.8.8"
  }
 },
 "nbformat": 4,
 "nbformat_minor": 4
}
